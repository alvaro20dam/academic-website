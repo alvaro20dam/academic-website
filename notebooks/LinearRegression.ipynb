{
 "cells": [
  {
   "cell_type": "markdown",
   "id": "b6fc0efc",
   "metadata": {},
   "source": [
    "## Linear Regression\n",
    "A linear model makes predictions by simply computed a weighted sum of the imput features plus a constant called the bias term also called the intercept."
   ]
  },
  {
   "cell_type": "markdown",
   "id": "2a7ebf76-13bb-48b8-b64d-1aeed73f2cba",
   "metadata": {},
   "source": [
    "Galton, a cousin of Charles \n",
    "Darwin and an accomplished 19th century scientist in his own right, has often been criticized in this century\r\n",
    "for his promotion of \"eugenics\" (planned breeding of huma)5). Historians hae\r\n",
    "also suggested that his cousin's lasting fame unfairly overshadowed the substantial scientific contributi ns\r\n",
    "Galton made to biology, psychology and applied statistics (see, for example, FitzPatrick 1960). Galton's\r\n",
    "fascination with genetics and heredity provided the initial inspiration that led to regression and the PPMC. "
   ]
  },
  {
   "cell_type": "markdown",
   "id": "3140fbae",
   "metadata": {},
   "source": [
    "Let´s generate some linear looking data"
   ]
  },
  {
   "cell_type": "code",
   "execution_count": 1,
   "id": "d188e8f4-44de-413e-bc9f-4315e96092e0",
   "metadata": {},
   "outputs": [],
   "source": [
    "import numpy as np\n",
    "\n",
    "X = 2 * np.random.rand(100, 1)\n",
    "y = 4 + 3 * X + np.random.randn(100, 1)"
   ]
  },
  {
   "cell_type": "markdown",
   "id": "568a2939-b965-4503-a29c-698b4520aa6e",
   "metadata": {},
   "source": [
    "\r",
    "\r\n",
    "This Python code snippet does the following:\r\n",
    "\r\n",
    "1. **Imports NumPy:** \r\n",
    "   - `import numpy as np`: This line imports the NumPy library, which provides support for numerical operations on arrays.\r\n",
    "\r\n",
    "2. **Generates Random Data:**\r\n",
    "   - `X = 2 * np.random.rand(100, 1)`: \r\n",
    "      - `np.random.rand(100, 1)` creates a NumPy array of shape (100, 1) filled with random numbers uniformly distributed between 0 and 1. \r\n",
    "      - Multiplying this array by 2 scales the random values to the range 0 to 2.\r\n",
    "   - `y = 4 + 3 * X + np.random.randn(100, 1)`: \r\n",
    "      - `np.random.randn(100, 1)` creates another NumPy array of shape (100, 1) filled with random numbers drawn from a standard normal distribution (mean 0, standard deviation 1).\r\n",
    "      - `4 + 3 * X` creates a linear relationship between `X` and `y` with a slope of 3 and an intercept of 4.\r\n",
    "      - Adding the normally distributed random values to this linear relationship introduces noise into the data.\r\n",
    "\r\n",
    "**In essence, this code generates a set of 100 data points (X, y) where:**\r\n",
    "\r\n",
    "- `X` is a random variable uniformly distributed between 0 and 2.\r\n",
    "- `y` is a noisy linear function of `X` with a slope of 3 and an intercept of 4.\r\n",
    "\r\n",
    "This type of data is often used in machine learning for tasks like linear regression, where the goal is to find the best-fitting line (or hyperplane) that represents the relationship between the input features (X) ad the target variable (y).\r\n"
   ]
  },
  {
   "cell_type": "markdown",
   "id": "e9f47eda",
   "metadata": {},
   "source": [
    "### Plotting the data"
   ]
  },
  {
   "cell_type": "code",
   "execution_count": 2,
   "id": "3f9d6abd-e641-46dd-a785-69c90edcaa8e",
   "metadata": {},
   "outputs": [
    {
     "data": {
      "text/plain": [
       "<matplotlib.collections.PathCollection at 0x263c9747b90>"
      ]
     },
     "execution_count": 2,
     "metadata": {},
     "output_type": "execute_result"
    },
    {
     "data": {
      "image/png": "[encoded data removed]",
      "text/plain": [
       "<Figure size 640x480 with 1 Axes>"
      ]
     },
     "metadata": {},
     "output_type": "display_data"
    }
   ],
   "source": [
    "import matplotlib as mpl\n",
    "import matplotlib.pyplot as plt\n",
    "\n",
    "plt.scatter(X,y)"
   ]
  },
  {
   "cell_type": "code",
   "execution_count": 3,
   "id": "685e3f5b-abb0-44cd-833f-44d41b215e87",
   "metadata": {},
   "outputs": [],
   "source": [
    "X_b = np.c_[np.ones((100, 1)), X] # add x0 = 1 to each instance\n",
    "\n",
    "theta_best = np.linalg.inv(X_b.T.dot(X_b)).dot(X_b.T).dot(y)"
   ]
  },
  {
   "cell_type": "markdown",
   "id": "4cfca18a",
   "metadata": {},
   "source": [
    "Let's performs linear regression using the closed-form solution with Ordinary Least Squares (OLS) and calculates the optimal parameter vector (theta) for the given data. Here's a breakdown of what each step does:\n",
    "\n",
    "**1. Adding a Column of Ones (X_b):**\n",
    "\n",
    "* `np.ones((100, 1))` creates a column vector of 1s with 100 rows (assuming you have 100 data instances).\n",
    "* `np.c_[np.ones((100, 1)), X]` concatenates this column of 1s to the front of the original data matrix `X`. This adds an intercept term (x0 = 1) to each data instance.\n",
    "\n",
    "**2. Calculating the Optimal Theta (theta_best):**\n",
    "\n",
    "* `.T`: This transposes the data matrix `X_b`. In linear regression, we typically use the transpose of the design matrix for the calculation.\n",
    "* `.dot(X_b)`: This performs matrix multiplication between the transposed `X_b` and the original `X_b`. This calculates the inner product between each feature vector and all other feature vectors, including the added intercept term (x0).\n",
    "* `.inv()`: This calculates the inverse of the result from the previous step. This inversion is used because we're solving for theta in a single step using the closed-form solution.\n",
    "* `.dot(X_b.T)`: This performs another matrix multiplication between the inverse and the transposed `X_b`.\n",
    "* `.dot(y)`: This performs the final matrix multiplication between the result from the previous step and the target vector `y`. This essentially calculates the linear combination of features weighted by the optimal parameters that minimizes the squared error between the predicted and actual target values.\n",
    "\n",
    "**In simpler terms:**\n",
    "\n",
    "The code calculates the optimal values for the parameters (theta) in the linear regression equation:\n",
    "\n",
    "```\n",
    "y = theta_0 * x0 + theta_1 * x1 + ... + theta_n * x_n\n",
    "```\n",
    "\n",
    "where:\n",
    "\n",
    "* `y` is the target variable.\n",
    "* `x0` is the intercept term (always 1 due to the added column of ones).\n",
    "* `x1 ... x_n` are the features in your data.\n",
    "* `theta_0 ... theta_n` are the parameters (weights) to be learned.\n",
    "\n",
    "The closed-form solution with OLS provides a direct way to compute the optimal theta by inverting the product of the transposed and original design matrix and multiplying it with the target vector.\n",
    "\n",
    "**Here are some additional points to note:**\n",
    "\n",
    "* This approach assumes your data has been centered or standardized beforehand for better numerical stability.\n",
    "* This is a computationally efficient way to solve for the optimal theta when dealing with large datasets.\n",
    "* There are other methods for solving linear regression problems, such as gradient descent, which can be useful when dealing with non-linear relationships or very large datasets. "
   ]
  },
  {
   "cell_type": "code",
   "execution_count": 4,
   "id": "c352b32c-2aac-45d9-990e-2e3c80b8f6bd",
   "metadata": {},
   "outputs": [
    {
     "data": {
      "text/plain": [
       "array([[4.03685823],\n",
       "       [2.99643222]])"
      ]
     },
     "execution_count": 4,
     "metadata": {},
     "output_type": "execute_result"
    }
   ],
   "source": [
    "theta_best"
   ]
  },
  {
   "cell_type": "code",
   "execution_count": 5,
   "id": "c2c8e370-5bf0-4110-933d-2a741fb2f0b2",
   "metadata": {},
   "outputs": [
    {
     "data": {
      "text/plain": [
       "array([[ 4.03685823],\n",
       "       [10.02972267]])"
      ]
     },
     "execution_count": 5,
     "metadata": {},
     "output_type": "execute_result"
    }
   ],
   "source": [
    "X_new = np.array([[0], [2]])\n",
    "X_new_b = np.c_[np.ones((2, 1)), X_new] # add x0 = 1 to each instance\n",
    "y_predict = X_new_b.dot(theta_best)\n",
    "y_predict"
   ]
  },
  {
   "cell_type": "markdown",
   "id": "3feb4de1",
   "metadata": {},
   "source": [
    "Here's a breakdown of the precedent code and what it does:\n",
    "\n",
    "**1. Creating New Data Points (X_new):**\n",
    "\n",
    "* `X_new = np.array([[0], [2]])` creates a new data matrix `X_new` with two rows and one column. Each row represents a new data instance with a single feature value.\n",
    "    * The first row has a value of `0`.\n",
    "    * The second row has a value of `2`.\n",
    "\n",
    "These new data points will be used to predict their corresponding target values using the linear regression model.\n",
    "\n",
    "**2. Adding Intercept Term (X_new_b):**\n",
    "\n",
    "* `np.ones((2, 1))` creates a column vector of ones with two rows (matching the number of rows in `X_new`). This represents the intercept term (x0 = 1) for each new instance.\n",
    "* `np.c_[np.ones((2, 1)), X_new]` concatenates this column of ones to the front of `X_new`. This adds the intercept term to each data instance in the new data matrix.\n",
    "\n",
    "**3. Predicting Target Values (y_predict):**\n",
    "\n",
    "* `X_new_b.dot(theta_best)` performs matrix multiplication between the new data matrix with intercept terms (`X_new_b`) and the optimal parameter vector (`theta_best`) calculated earlier. This essentially calculates the predicted target values (`y_predict`) for the new data points using the linear regression model.\n",
    "\n",
    "**Overall:**\n",
    "\n",
    "This code segment uses the previously trained linear regression model (`theta_best`) to predict target values for new data points (`X_new`). It adds the intercept term (x0 = 1) to the new data and then performs matrix multiplication with the optimal parameters to get the predictions.\n",
    "\n",
    "**The result (y_predict) will be a vector with two elements, each corresponding to the predicted target value for the respective new data point in X_new.**\n",
    "\n",
    "For example, if `theta_best` contains the values for the intercept and slope learned from the training data, the predicted target values would be:\n",
    "\n",
    "```\n",
    "y_predict = [[theta_0 * 1 + theta_1 * 0],  # Prediction for X_new[0] = 0\n",
    "             [theta_0 * 1 + theta_1 * 2]]  # Prediction for X_new[1] = 2\n",
    "```\n",
    "\n",
    "These predictions can be compared to actual target values (if available) for new data to evaluate the performance of the linear regression model."
   ]
  },
  {
   "cell_type": "code",
   "execution_count": 6,
   "id": "66814687-6ece-4790-a23d-e195b72b7f4f",
   "metadata": {},
   "outputs": [
    {
     "data": {
      "image/png": "[encoded data removed]",
      "text/plain": [
       "<Figure size 640x480 with 1 Axes>"
      ]
     },
     "metadata": {},
     "output_type": "display_data"
    }
   ],
   "source": [
    "plt.plot(X_new, y_predict, \"r-\")\n",
    "plt.plot(X, y, \"b.\")\n",
    "plt.axis([0, 2, 0, 15])\n",
    "plt.show()"
   ]
  },
  {
   "cell_type": "code",
   "execution_count": 7,
   "id": "0c1d2ade-ddc3-45ff-aa48-2f8bde8658a1",
   "metadata": {},
   "outputs": [
    {
     "data": {
      "text/plain": [
       "(array([4.03685823]), array([[2.99643222]]))"
      ]
     },
     "execution_count": 7,
     "metadata": {},
     "output_type": "execute_result"
    }
   ],
   "source": [
    "from sklearn.linear_model import LinearRegression\n",
    "\n",
    "lin_reg = LinearRegression()\n",
    "lin_reg.fit(X, y)\n",
    "lin_reg.intercept_, lin_reg.coef_"
   ]
  },
  {
   "cell_type": "code",
   "execution_count": 8,
   "id": "7f085cf5-d762-44f0-9618-d87eb3947f99",
   "metadata": {},
   "outputs": [
    {
     "data": {
      "text/plain": [
       "array([[ 4.03685823],\n",
       "       [10.02972267]])"
      ]
     },
     "execution_count": 8,
     "metadata": {},
     "output_type": "execute_result"
    }
   ],
   "source": [
    "lin_reg.predict(X_new)"
   ]
  },
  {
   "cell_type": "code",
   "execution_count": 9,
   "id": "8b66f21a-bf89-4181-b331-f24b16532ef1",
   "metadata": {},
   "outputs": [
    {
     "data": {
      "text/plain": [
       "array([[4.03685823],\n",
       "       [2.99643222]])"
      ]
     },
     "execution_count": 9,
     "metadata": {},
     "output_type": "execute_result"
    }
   ],
   "source": [
    "theta_best_svd, residuals, rank, s = np.linalg.lstsq(X_b, y, rcond=1e-6)\n",
    "theta_best_svd"
   ]
  },
  {
   "cell_type": "code",
   "execution_count": 10,
   "id": "54854ef1-a0b5-4424-9e49-8baef382450e",
   "metadata": {},
   "outputs": [
    {
     "data": {
      "text/plain": [
       "array([[4.03685823],\n",
       "       [2.99643222]])"
      ]
     },
     "execution_count": 10,
     "metadata": {},
     "output_type": "execute_result"
    }
   ],
   "source": [
    "np.linalg.pinv(X_b).dot(y)"
   ]
  },
  {
   "cell_type": "code",
   "execution_count": 11,
   "id": "15337834-0440-4d97-b38e-af8384d75601",
   "metadata": {},
   "outputs": [],
   "source": [
    "n_epochs = 50\n",
    "t0, t1 = 5, 50 # learning schedule hyperparameters\n",
    "m = len(X_b)\n",
    "\n",
    "def learning_schedule(t):\n",
    "    return t0 / (t + t1)\n",
    "    \n",
    "theta = np.random.randn(2,1) # random initialization\n",
    "\n",
    "for epoch in range(n_epochs):\n",
    "    for i in range(m):\n",
    "        random_index = np.random.randint(m)\n",
    "        xi = X_b[random_index:random_index+1]\n",
    "        yi = y[random_index:random_index+1]\n",
    "        gradients = 2 * xi.T.dot(xi.dot(theta) - yi)\n",
    "        eta = learning_schedule(epoch * m + i)\n",
    "        theta = theta - eta * gradients"
   ]
  },
  {
   "cell_type": "code",
   "execution_count": 12,
   "id": "25996d79-bc72-4003-a6c4-0297b9ab2d7f",
   "metadata": {},
   "outputs": [
    {
     "data": {
      "text/plain": [
       "array([[4.00964555],\n",
       "       [3.07884597]])"
      ]
     },
     "execution_count": 12,
     "metadata": {},
     "output_type": "execute_result"
    }
   ],
   "source": [
    "theta"
   ]
  }
 ],
 "metadata": {
  "kernelspec": {
   "display_name": "Python 3 (ipykernel)",
   "language": "python",
   "name": "python3"
  },
  "language_info": {
   "codemirror_mode": {
    "name": "ipython",
    "version": 3
   },
   "file_extension": ".py",
   "mimetype": "text/x-python",
   "name": "python",
   "nbconvert_exporter": "python",
   "pygments_lexer": "ipython3",
   "version": "3.12.4"
  }
 },
 "nbformat": 4,
 "nbformat_minor": 5
}
